{
 "cells": [
  {
   "cell_type": "code",
   "execution_count": 6,
   "metadata": {},
   "outputs": [],
   "source": [
    "import pyodbc\n",
    "\n",
    "\n",
    "driver = \"{ODBC Driver 17 for SQL Server}\"\n",
    "server = '172.16.1.151'\n",
    "connection_string = f\"\"\"\n",
    "DRIVER={driver};\n",
    "SERVER={server};\n",
    "DATABASE=trdata;\n",
    "UID=travel4u_ec;\n",
    "PWD=SQAik^!YUfwv\"\"\"\n",
    "conn = pyodbc.connect(\n",
    "    connection_string,\n",
    "    timeout=60,  # query for TRGITN takes a long time\n",
    "    attrs_before={},  # TODO: what is this for?\n",
    ")"
   ]
  },
  {
   "cell_type": "code",
   "execution_count": 7,
   "metadata": {},
   "outputs": [
    {
     "name": "stdout",
     "output_type": "stream",
     "text": [
      "View created successfully\n"
     ]
    }
   ],
   "source": [
    "# Replace with your SQL query\n",
    "sql_query = '''\n",
    "CREATE VIEW dbo.dbt_test AS \n",
    "SELECT TOP (1) *\n",
    "FROM TRGRUP ;\n",
    "'''\n",
    "\n",
    "cursor = conn.cursor()\n",
    "try:\n",
    "    cursor.execute(sql_query)\n",
    "    # Committing the transaction\n",
    "    conn.commit()\n",
    "    print(\"View created successfully\")\n",
    "except pyodbc.Error as e:\n",
    "    print(f\"Error occurred: {e}\")\n",
    "finally:\n",
    "    # Closing the cursor and connection\n",
    "    cursor.close()\n",
    "    conn.close()"
   ]
  },
  {
   "cell_type": "code",
   "execution_count": 1,
   "metadata": {},
   "outputs": [
    {
     "name": "stdout",
     "output_type": "stream",
     "text": [
      "Collecting recordclass\n",
      "  Downloading recordclass-0.20.tar.gz (1.3 MB)\n",
      "\u001b[2K     \u001b[90m━━━━━━━━━━━━━━━━━━━━━━━━━━━━━━━━━━━━━━━━\u001b[0m \u001b[32m1.3/1.3 MB\u001b[0m \u001b[31m2.6 MB/s\u001b[0m eta \u001b[36m0:00:00\u001b[0ma \u001b[36m0:00:01\u001b[0m0m\n",
      "\u001b[?25h  Preparing metadata (setup.py) ... \u001b[?25ldone\n",
      "\u001b[?25hBuilding wheels for collected packages: recordclass\n",
      "  Building wheel for recordclass (setup.py) ... \u001b[?25ldone\n",
      "\u001b[?25h  Created wheel for recordclass: filename=recordclass-0.20-cp39-cp39-linux_x86_64.whl size=138040 sha256=cafa4e2e3c9ce7cd079734d7f1252a49feb56d662a35bd14baa39ade65bd179e\n",
      "  Stored in directory: /home/wenchin/.cache/pip/wheels/1e/c1/d8/ef990129cd1b5eab44d4cf30169aea38935c701aba1bd4fed1\n",
      "Successfully built recordclass\n",
      "Installing collected packages: recordclass\n",
      "Successfully installed recordclass-0.20\n",
      "Note: you may need to restart the kernel to use updated packages.\n"
     ]
    }
   ],
   "source": [
    "pip install recordclass"
   ]
  },
  {
   "cell_type": "code",
   "execution_count": 9,
   "metadata": {},
   "outputs": [
    {
     "name": "stdout",
     "output_type": "stream",
     "text": [
      "232\n",
      "40\n"
     ]
    }
   ],
   "source": [
    "from recordclass import make_dataclass\n",
    "import sys\n",
    "import copy\n",
    "\n",
    "OrderClass = make_dataclass(\"Order\",('we_order_no','we_order_no_status','orderrooms'))\n",
    "\n",
    "we_order_no = '1234'\n",
    "we_order_no_status='T'\n",
    "orderrooms = 100\n",
    "\n",
    "d = {\n",
    "    'web_order_no':we_order_no,\n",
    "    'status':we_order_no_status,\n",
    "    'rooms':orderrooms\n",
    "}\n",
    "\n",
    "print(sys.getsizeof(d))\n",
    "print(sys.getsizeof(OrderClass(we_order_no,we_order_no_status,orderrooms)))"
   ]
  },
  {
   "cell_type": "code",
   "execution_count": 10,
   "metadata": {},
   "outputs": [],
   "source": [
    "r = [d.copy() for _ in range(5)]\n",
    "r2 = [copy.copy(OrderClass(we_order_no,we_order_no_status,orderrooms)) for _ in range(5)]"
   ]
  },
  {
   "cell_type": "code",
   "execution_count": 11,
   "metadata": {},
   "outputs": [
    {
     "name": "stdout",
     "output_type": "stream",
     "text": [
      "120\n",
      "120\n"
     ]
    }
   ],
   "source": [
    "print(sys.getsizeof([]))\n",
    "print(sys.getsizeof([]))"
   ]
  },
  {
   "cell_type": "code",
   "execution_count": 14,
   "metadata": {},
   "outputs": [],
   "source": [
    "r = [_ for _ in range(5)]\n",
    "r2 = [str(_) for _ in range(5)]"
   ]
  },
  {
   "cell_type": "code",
   "execution_count": 15,
   "metadata": {},
   "outputs": [
    {
     "name": "stdout",
     "output_type": "stream",
     "text": [
      "120\n",
      "120\n"
     ]
    }
   ],
   "source": [
    "print(sys.getsizeof(r))\n",
    "print(sys.getsizeof(r2))"
   ]
  },
  {
   "cell_type": "code",
   "execution_count": 25,
   "metadata": {},
   "outputs": [
    {
     "name": "stdout",
     "output_type": "stream",
     "text": [
      "72\n"
     ]
    }
   ],
   "source": [
    "print(sys.getsizeof([0,'1']))"
   ]
  },
  {
   "cell_type": "code",
   "execution_count": 27,
   "metadata": {},
   "outputs": [
    {
     "name": "stdout",
     "output_type": "stream",
     "text": [
      "48\n"
     ]
    }
   ],
   "source": [
    "from dataclasses import dataclass, make_dataclass\n",
    "\n",
    "@dataclass\n",
    "class OrderClass:\n",
    "    we_order_no:str\n",
    "    we_order_no_status:str\n",
    "    orderrooms:int\n",
    "\n",
    "order = OrderClass(1,we_order_no_status,orderrooms)\n",
    "print(sys.getsizeof(order))\n"
   ]
  },
  {
   "cell_type": "code",
   "execution_count": 28,
   "metadata": {},
   "outputs": [],
   "source": [
    "order = make_dataclass(\"Order\",('we_order_no','we_order_no_status','orderrooms'))"
   ]
  },
  {
   "cell_type": "code",
   "execution_count": 30,
   "metadata": {},
   "outputs": [
    {
     "name": "stdout",
     "output_type": "stream",
     "text": [
      "Order(we_order_no='1234', we_order_no_status='T', orderrooms=100)\n",
      "48\n"
     ]
    }
   ],
   "source": [
    "from dataclasses import make_dataclass\n",
    "\n",
    "OrderClass = make_dataclass(\"Order\", [('we_order_no', str), ('we_order_no_status', str), ('orderrooms', int)])\n",
    "\n",
    "we_order_no = '1234'\n",
    "we_order_no_status = 'T'\n",
    "orderrooms = 100\n",
    "\n",
    "order_instance = OrderClass(we_order_no, we_order_no_status, orderrooms)\n",
    "\n",
    "print(order_instance)\n",
    "\n",
    "print(sys.getsizeof(order_instance))"
   ]
  }
 ],
 "metadata": {
  "kernelspec": {
   "display_name": "dbt",
   "language": "python",
   "name": "python3"
  },
  "language_info": {
   "codemirror_mode": {
    "name": "ipython",
    "version": 3
   },
   "file_extension": ".py",
   "mimetype": "text/x-python",
   "name": "python",
   "nbconvert_exporter": "python",
   "pygments_lexer": "ipython3",
   "version": "3.9.17"
  },
  "orig_nbformat": 4
 },
 "nbformat": 4,
 "nbformat_minor": 2
}
